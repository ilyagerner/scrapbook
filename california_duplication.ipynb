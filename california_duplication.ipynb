{
 "cells": [
  {
   "cell_type": "code",
   "execution_count": 1,
   "metadata": {},
   "outputs": [],
   "source": [
    "import requests\n",
    "from collections import Counter"
   ]
  },
  {
   "cell_type": "code",
   "execution_count": 72,
   "metadata": {},
   "outputs": [],
   "source": [
    "def openstates_v2_request (payload):\n",
    "    \"\"\"\n",
    "    payload: string correspondong to a query.\n",
    "    return: JSON object.\n",
    "    \"\"\"\n",
    "    headers = {'x-api-key': API_KEY,\n",
    "    'Content-Type': \"application/x-www-form-urlencoded\",}\n",
    "    url = \"https://openstates.org/graphql\"\n",
    "    response = requests.post(url, data=payload, headers=headers)\n",
    "    return response.json()\n",
    "\n",
    "def get_bill (new_session_id, state_name=\"California\", session_year=\"20192020\"):\n",
    "    payload = 'query= {bill(jurisdiction: \"%s\", session: \"%s\", identifier: \"%s\") {id}}' % (state_name, session_year, new_session_id)\n",
    "    return openstates_v2_request(payload)\n",
    "\n",
    "def all_CA_bills (after=\"\"):\n",
    "    payload = 'query= { bills(first: 100, jurisdiction: \"California\", session: \"20192020\", after: \"%s\") { totalCount pageInfo { startCursor endCursor hasNextPage } edges { bill:node { id identifier title classification updatedAt createdAt fromOrganization { id name} } } } } ' % (after)\n",
    "    return openstates_v2_request(payload)\n",
    "\n",
    "def find_bill (subject, state_name=\"California\", session_year=\"20192020\"):\n",
    "    payload = 'query= { bills(first: 100, jurisdiction: \"California\", session: \"20192020\", subject: \"%s\") { totalCount pageInfo { startCursor endCursor hasNextPage } edges { bill:node { id identifier title classification updatedAt createdAt fromOrganization { id name} } } } } ' % (subject)\n",
    "    return openstates_v2_request(payload)         "
   ]
  },
  {
   "cell_type": "code",
   "execution_count": 9,
   "metadata": {},
   "outputs": [],
   "source": [
    "CA_list_of_bills = []"
   ]
  },
  {
   "cell_type": "code",
   "execution_count": 10,
   "metadata": {},
   "outputs": [],
   "source": [
    "batch_100_bills = all_CA_bills()"
   ]
  },
  {
   "cell_type": "code",
   "execution_count": 11,
   "metadata": {},
   "outputs": [
    {
     "data": {
      "text/plain": [
       "True"
      ]
     },
     "execution_count": 11,
     "metadata": {},
     "output_type": "execute_result"
    }
   ],
   "source": [
    "total_bills = batch_100_bills['data']['bills']['totalCount']\n",
    "for bill in batch_100_bills['data']['bills']['edges']:\n",
    "    CA_list_of_bills.append(bill)\n",
    "len(CA_list_of_bills) == 100"
   ]
  },
  {
   "cell_type": "code",
   "execution_count": 12,
   "metadata": {},
   "outputs": [],
   "source": [
    "has_next = batch_100_bills['data']['bills']['pageInfo']['hasNextPage']\n",
    "while has_next:\n",
    "    batch_100_bills = all_CA_bills(after=batch_100_bills['data']['bills']['pageInfo']['endCursor'])\n",
    "    for bill in batch_100_bills['data']['bills']['edges']:\n",
    "        CA_list_of_bills.append(bill)\n",
    "    has_next = batch_100_bills['data']['bills']['pageInfo']['hasNextPage']"
   ]
  },
  {
   "cell_type": "code",
   "execution_count": 65,
   "metadata": {},
   "outputs": [
    {
     "data": {
      "text/plain": [
       "True"
      ]
     },
     "execution_count": 65,
     "metadata": {},
     "output_type": "execute_result"
    }
   ],
   "source": [
    "total_bills == len(CA_list_of_bills)"
   ]
  },
  {
   "cell_type": "code",
   "execution_count": 14,
   "metadata": {},
   "outputs": [],
   "source": [
    "CA_bill_ids_with_ocd = [(bill['bill']['id'], bill['bill']['identifier'], bill['bill']['title'])\n",
    "                        for bill in CA_list_of_bills]"
   ]
  },
  {
   "cell_type": "code",
   "execution_count": 15,
   "metadata": {},
   "outputs": [],
   "source": [
    "#list of tuples. CA_bill_ids_and_titles[0] is the identifier (eg. \"AB 2\"), [1] is the title\n",
    "CA_bill_ids_and_titles = [(bill['bill']['identifier'], bill['bill']['title'])\n",
    "                          for bill in CA_list_of_bills]"
   ]
  },
  {
   "cell_type": "code",
   "execution_count": 66,
   "metadata": {},
   "outputs": [],
   "source": [
    "count = Counter(CA_bill_ids_and_titles)\n",
    "duplicate_bills = [bill for bill in count if count[bill] > 1]\n",
    "#create list of just duplicate bill ids\n",
    "duplicate_session_ids = [bill[0] for bill in duplicate_bills]"
   ]
  },
  {
   "cell_type": "code",
   "execution_count": 67,
   "metadata": {},
   "outputs": [
    {
     "data": {
      "text/plain": [
       "1741"
      ]
     },
     "execution_count": 67,
     "metadata": {},
     "output_type": "execute_result"
    }
   ],
   "source": [
    "len(duplicate_session_ids)"
   ]
  },
  {
   "cell_type": "code",
   "execution_count": 23,
   "metadata": {},
   "outputs": [
    {
     "name": "stdout",
     "output_type": "stream",
     "text": [
      "{'bill': {'id': 'ocd-bill/e9cca90b-65e2-46d7-9c02-7937bc59f3c5', 'identifier': 'AB 696', 'title': 'Juveniles: wards.', 'classification': ['bill'], 'updatedAt': '2019-02-21 18:07:43.131291+00:00', 'createdAt': '2019-02-20 18:07:06.090661+00:00', 'fromOrganization': {'id': 'ocd-organization/98623fa0-f9c3-47ae-80bb-51465349ed71', 'name': 'Senate'}}}\n",
      "{'bill': {'id': 'ocd-bill/99428608-c83d-4e77-92a2-e57ceb213f5a', 'identifier': 'AB 696', 'title': 'Juveniles: wards.', 'classification': ['bill'], 'updatedAt': '2019-02-27 18:08:07.600559+00:00', 'createdAt': '2019-02-27 18:08:07.600535+00:00', 'fromOrganization': {'id': 'ocd-organization/e70e812e-44d2-46b0-9eae-2f3b9a1d5150', 'name': 'Assembly'}}}\n"
     ]
    }
   ],
   "source": [
    "for bill in CA_list_of_bills:\n",
    "    if bill['bill']['identifier'] == duplicate_session_ids[87]:\n",
    "        print(bill)"
   ]
  },
  {
   "cell_type": "code",
   "execution_count": 26,
   "metadata": {},
   "outputs": [],
   "source": [
    "duplicate_dictionary = {}\n",
    "for bill in CA_list_of_bills:\n",
    "    if bill['bill']['identifier'] in duplicate_session_ids:\n",
    "        if bill['bill']['identifier'] in duplicate_dictionary:\n",
    "            duplicate_dictionary[bill['bill']['identifier']].append(bill)\n",
    "        else:\n",
    "            duplicate_dictionary[bill['bill']['identifier']] = [bill]"
   ]
  },
  {
   "cell_type": "code",
   "execution_count": 38,
   "metadata": {},
   "outputs": [],
   "source": [
    "assembly_bills_with_bad_senate_version = []\n",
    "for item in duplicate_dictionary:\n",
    "    if ( (duplicate_dictionary[item][0]['bill']['fromOrganization']['name'] == 'Senate' \n",
    "        or duplicate_dictionary[item][1]['bill']['fromOrganization']['name'] == 'Senate')\n",
    "        and duplicate_dictionary[item][0]['bill']['identifier'][:2] == 'AB'):\n",
    "        assembly_bills_with_bad_senate_version.append(duplicate_dictionary[item])"
   ]
  },
  {
   "cell_type": "code",
   "execution_count": 41,
   "metadata": {},
   "outputs": [],
   "source": [
    "senate_bills_with_bad_assembly_version = []\n",
    "for item in duplicate_dictionary:\n",
    "    if ( (duplicate_dictionary[item][0]['bill']['fromOrganization']['name'] == 'Assembly' \n",
    "        or duplicate_dictionary[item][1]['bill']['fromOrganization']['name'] == 'Assembly')\n",
    "        and duplicate_dictionary[item][0]['bill']['identifier'][:2] == 'SB'):\n",
    "        senate_bills_with_bad_assembly_version.append(duplicate_dictionary[item])"
   ]
  },
  {
   "cell_type": "code",
   "execution_count": 52,
   "metadata": {},
   "outputs": [],
   "source": [
    "other_duplicates = []\n",
    "for item in duplicate_dictionary:\n",
    "    if (duplicate_dictionary[item][0]['bill']['fromOrganization']['name'] != \n",
    "        duplicate_dictionary[item][1]['bill']['fromOrganization']['name'] \n",
    "       and duplicate_dictionary[item][0]['bill']['identifier'][:2] not in ['AB', 'SB']):\n",
    "        other_duplicates.append(duplicate_dictionary[item])"
   ]
  },
  {
   "cell_type": "code",
   "execution_count": 53,
   "metadata": {},
   "outputs": [
    {
     "data": {
      "text/plain": [
       "True"
      ]
     },
     "execution_count": 53,
     "metadata": {},
     "output_type": "execute_result"
    }
   ],
   "source": [
    "len(other_duplicates) + len(assembly_bills_with_bad_senate_version) + len(senate_bills_with_bad_assembly_version) == len(duplicate_dictionary)"
   ]
  },
  {
   "cell_type": "code",
   "execution_count": 61,
   "metadata": {},
   "outputs": [],
   "source": [
    "#if a bill is a duplicate, the \"bad\" version of the bill is the one that doesn't match\n",
    "# it's identifier. That is, an \"AB\" \"ACR\" bill shouldn't be coming from the Senate and\n",
    "# and \"SB\" \"SCR\" shouldn't emanate from the Assembly.\n",
    "\n",
    "to_purge = []\n",
    "for bill in CA_list_of_bills:\n",
    "    if bill['bill']['identifier'] in duplicate_session_ids:\n",
    "        if bill['bill']['identifier'][:1] == 'A' and bill['bill']['fromOrganization']['name'] == 'Senate':\n",
    "            to_purge.append(bill)\n",
    "        elif bill['bill']['identifier'][:1] == 'S' and bill['bill']['fromOrganization']['name'] == 'Assembly':\n",
    "            to_purge.append(bill)"
   ]
  },
  {
   "cell_type": "code",
   "execution_count": 69,
   "metadata": {},
   "outputs": [],
   "source": [
    "with open(\"to_purge.txt\", \"w\") as output:\n",
    "    output.write(str(to_purge))\n",
    "with open(\"duplicate_bills.txt\", \"w\") as output:\n",
    "    output.write(str(duplicate_bills))"
   ]
  },
  {
   "cell_type": "code",
   "execution_count": 71,
   "metadata": {},
   "outputs": [
    {
     "data": {
      "text/plain": [
       "True"
      ]
     },
     "execution_count": 71,
     "metadata": {},
     "output_type": "execute_result"
    }
   ],
   "source": [
    "len(duplicate_bills) == len(to_purge)"
   ]
  },
  {
   "cell_type": "code",
   "execution_count": null,
   "metadata": {},
   "outputs": [],
   "source": []
  },
  {
   "cell_type": "code",
   "execution_count": null,
   "metadata": {},
   "outputs": [],
   "source": []
  },
  {
   "cell_type": "code",
   "execution_count": null,
   "metadata": {},
   "outputs": [],
   "source": []
  },
  {
   "cell_type": "code",
   "execution_count": null,
   "metadata": {},
   "outputs": [],
   "source": []
  },
  {
   "cell_type": "code",
   "execution_count": null,
   "metadata": {},
   "outputs": [],
   "source": []
  },
  {
   "cell_type": "code",
   "execution_count": null,
   "metadata": {},
   "outputs": [],
   "source": []
  },
  {
   "cell_type": "code",
   "execution_count": null,
   "metadata": {},
   "outputs": [],
   "source": []
  },
  {
   "cell_type": "code",
   "execution_count": null,
   "metadata": {},
   "outputs": [],
   "source": []
  },
  {
   "cell_type": "code",
   "execution_count": null,
   "metadata": {},
   "outputs": [],
   "source": []
  },
  {
   "cell_type": "code",
   "execution_count": null,
   "metadata": {},
   "outputs": [],
   "source": []
  }
 ],
 "metadata": {
  "kernelspec": {
   "display_name": "Python 3",
   "language": "python",
   "name": "python3"
  },
  "language_info": {
   "codemirror_mode": {
    "name": "ipython",
    "version": 3
   },
   "file_extension": ".py",
   "mimetype": "text/x-python",
   "name": "python",
   "nbconvert_exporter": "python",
   "pygments_lexer": "ipython3",
   "version": "3.7.2"
  }
 },
 "nbformat": 4,
 "nbformat_minor": 2
}
