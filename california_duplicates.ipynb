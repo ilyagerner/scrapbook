{
 "cells": [
  {
   "cell_type": "code",
   "execution_count": 132,
   "metadata": {},
   "outputs": [],
   "source": [
    "import requests\n",
    "from collections import Counter\n",
    "from datetime import datetime"
   ]
  },
  {
   "cell_type": "code",
   "execution_count": 67,
   "metadata": {},
   "outputs": [],
   "source": [
    "def openstates_v2_request (payload):\n",
    "    \"\"\"\n",
    "    payload: string correspondong to a query.\n",
    "    return: JSON object.\n",
    "    \"\"\"\n",
    "    headers = {'x-api-key': API_KEY,\n",
    "    'Content-Type': \"application/x-www-form-urlencoded\",}\n",
    "    url = \"https://openstates.org/graphql\"\n",
    "    response = requests.post(url, data=payload, headers=headers)\n",
    "    return response.json()\n",
    "\n",
    "def get_bill (identifier, state_name=\"California\", session_year=\"20192020\"):\n",
    "    \"\"\"\n",
    "    Should return one bill given an identifier (e.g. 'AB 2'), a state, and a session.\n",
    "    \"\"\"\n",
    "    payload = 'query= {bill(jurisdiction: \"%s\", session: \"%s\", identifier: \"%s\") {id}}' % (state_name, session_year, identifier)\n",
    "    return openstates_v2_request(payload)\n",
    "\n",
    "def all_CA_bills (after=\"\"):\n",
    "    \"\"\"\n",
    "    Loads the first 100 bills after the 'after' cursor. \n",
    "    Only returns (openstates) id, identifier (eg. 'AB 2'), title, classification, \n",
    "    updatedAt, createdAt, fromOrganization, and totalCount\n",
    "    \"\"\"\n",
    "    payload = 'query= { bills(first: 100, jurisdiction: \"California\", session: \"20192020\", after: \"%s\") { totalCount pageInfo { startCursor endCursor hasNextPage } edges { bill:node { id identifier title classification updatedAt createdAt fromOrganization { id name} } } } } ' % (after)\n",
    "    return openstates_v2_request(payload)\n",
    "\n",
    "def find_bill (subject, state_name=\"California\", session_year=\"20192020\"):\n",
    "    payload = 'query= { bills(first: 100, jurisdiction: \"California\", session: \"20192020\", subject: \"%s\") { totalCount pageInfo { startCursor endCursor hasNextPage } edges { bill:node { id identifier title classification updatedAt createdAt fromOrganization { id name} } } } } ' % (subject)\n",
    "    return openstates_v2_request(payload)"
   ]
  },
  {
   "cell_type": "code",
   "execution_count": 6,
   "metadata": {},
   "outputs": [],
   "source": [
    "batch_100_bills = all_CA_bills()"
   ]
  },
  {
   "cell_type": "code",
   "execution_count": 8,
   "metadata": {},
   "outputs": [
    {
     "data": {
      "text/plain": [
       "True"
      ]
     },
     "execution_count": 8,
     "metadata": {},
     "output_type": "execute_result"
    }
   ],
   "source": [
    "# Append first 100 bills and check total number of returned bills.\n",
    "CA_list_of_bills = []\n",
    "total_bills = batch_100_bills['data']['bills']['totalCount']\n",
    "for bill in batch_100_bills['data']['bills']['edges']:\n",
    "    CA_list_of_bills.append(bill)\n",
    "len(CA_list_of_bills) == 100"
   ]
  },
  {
   "cell_type": "code",
   "execution_count": 9,
   "metadata": {},
   "outputs": [],
   "source": [
    "# Keep downloading bills until all are stored in a list.\n",
    "has_next = batch_100_bills['data']['bills']['pageInfo']['hasNextPage']\n",
    "while has_next:\n",
    "    batch_100_bills = all_CA_bills(after=batch_100_bills['data']['bills']['pageInfo']['endCursor'])\n",
    "    for bill in batch_100_bills['data']['bills']['edges']:\n",
    "        CA_list_of_bills.append(bill)\n",
    "    has_next = batch_100_bills['data']['bills']['pageInfo']['hasNextPage']"
   ]
  },
  {
   "cell_type": "code",
   "execution_count": 10,
   "metadata": {},
   "outputs": [
    {
     "name": "stdout",
     "output_type": "stream",
     "text": [
      "True 3497\n"
     ]
    }
   ],
   "source": [
    "#check that we've downloaded the 'totalCount' of bills.\n",
    "print(total_bills == len(CA_list_of_bills), total_bills)"
   ]
  },
  {
   "cell_type": "code",
   "execution_count": 13,
   "metadata": {},
   "outputs": [],
   "source": [
    "#list of tuples. CA_bill_ids_and_titles[0] is the identifier (eg. \"AB 2\"), [1] is the title\n",
    "CA_bill_ids_and_titles = [(bill['bill']['identifier'], bill['bill']['title'])\n",
    "                          for bill in CA_list_of_bills]"
   ]
  },
  {
   "cell_type": "code",
   "execution_count": 15,
   "metadata": {},
   "outputs": [
    {
     "data": {
      "text/plain": [
       "True"
      ]
     },
     "execution_count": 15,
     "metadata": {},
     "output_type": "execute_result"
    }
   ],
   "source": [
    "len(CA_bill_ids_and_titles) == total_bills"
   ]
  },
  {
   "cell_type": "code",
   "execution_count": 16,
   "metadata": {},
   "outputs": [],
   "source": [
    "count = Counter(CA_bill_ids_and_titles)\n",
    "duplicate_bills = [bill for bill in count if count[bill] > 1]\n",
    "#create list of just duplicate bill ids\n",
    "duplicate_session_ids = [bill[0] for bill in duplicate_bills]"
   ]
  },
  {
   "cell_type": "code",
   "execution_count": 17,
   "metadata": {},
   "outputs": [
    {
     "data": {
      "text/plain": [
       "743"
      ]
     },
     "execution_count": 17,
     "metadata": {},
     "output_type": "execute_result"
    }
   ],
   "source": [
    "len(duplicate_session_ids)"
   ]
  },
  {
   "cell_type": "code",
   "execution_count": 68,
   "metadata": {},
   "outputs": [
    {
     "name": "stdout",
     "output_type": "stream",
     "text": [
      "{'bill': {'id': 'ocd-bill/3d6e691a-36ab-4acc-ac8d-3d4fc8da3bd9', 'identifier': 'AB 912', 'title': 'Marine invasive species: ballast water and biofouling management requirements.', 'classification': ['bill'], 'updatedAt': '2019-03-07 18:09:17.550450+00:00', 'createdAt': '2019-03-07 18:09:17.550432+00:00', 'fromOrganization': {'id': 'ocd-organization/e70e812e-44d2-46b0-9eae-2f3b9a1d5150', 'name': 'Assembly'}}}\n",
      "{'bill': {'id': 'ocd-bill/7db9f396-5e81-48fd-a7a8-d449185c1cc8', 'identifier': 'AB 912', 'title': 'Marine invasive species: ballast water and biofouling management requirements.', 'classification': ['bill'], 'updatedAt': '2019-03-07 06:09:32.982145+00:00', 'createdAt': '2019-03-07 06:09:32.982128+00:00', 'fromOrganization': {'id': 'ocd-organization/98623fa0-f9c3-47ae-80bb-51465349ed71', 'name': 'Senate'}}}\n"
     ]
    }
   ],
   "source": [
    "#check a select few of the duplicate session IDs\n",
    "for bill in CA_list_of_bills:\n",
    "    if bill['bill']['identifier'] == duplicate_session_ids[32]:\n",
    "        print(bill)"
   ]
  },
  {
   "cell_type": "code",
   "execution_count": 46,
   "metadata": {},
   "outputs": [],
   "source": [
    "duplicate_dictionary = {}\n",
    "for bill in CA_list_of_bills:\n",
    "    identifier = bill['bill']['identifier']\n",
    "    if bill['bill']['identifier'] in duplicate_session_ids:\n",
    "        if bill['bill']['identifier'] in duplicate_dictionary:\n",
    "            duplicate_dictionary[bill['bill']['identifier']].append(bill)\n",
    "        else:\n",
    "            duplicate_dictionary[bill['bill']['identifier']] = [bill]"
   ]
  },
  {
   "cell_type": "code",
   "execution_count": 47,
   "metadata": {},
   "outputs": [
    {
     "data": {
      "text/plain": [
       "743"
      ]
     },
     "execution_count": 47,
     "metadata": {},
     "output_type": "execute_result"
    }
   ],
   "source": [
    "len(duplicate_dictionary)"
   ]
  },
  {
   "cell_type": "code",
   "execution_count": 56,
   "metadata": {},
   "outputs": [],
   "source": [
    "assembly_bills_with_bad_senate_version = []\n",
    "for identifier, bill in duplicate_dictionary.items():\n",
    "    if ((bill[0]['bill']['fromOrganization']['name'] == 'Senate' \n",
    "        or bill [1]['bill']['fromOrganization']['name'] == 'Senate')\n",
    "        and bill[0]['bill']['identifier'][:1] == 'A'):\n",
    "        assembly_bills_with_bad_senate_version.append(duplicate_dictionary[item])"
   ]
  },
  {
   "cell_type": "code",
   "execution_count": 57,
   "metadata": {},
   "outputs": [
    {
     "data": {
      "text/plain": [
       "138"
      ]
     },
     "execution_count": 57,
     "metadata": {},
     "output_type": "execute_result"
    }
   ],
   "source": [
    "len(assembly_bills_with_bad_senate_version)"
   ]
  },
  {
   "cell_type": "code",
   "execution_count": 58,
   "metadata": {},
   "outputs": [],
   "source": [
    "senate_bills_with_bad_assembly_version = []\n",
    "for identifier, bill in duplicate_dictionary.items():\n",
    "    if ( (bill[0]['bill']['fromOrganization']['name'] == 'Assembly' \n",
    "        or bill[1]['bill']['fromOrganization']['name'] == 'Assembly')\n",
    "        and bill[0]['bill']['identifier'][:1] == 'S'):\n",
    "        senate_bills_with_bad_assembly_version.append(duplicate_dictionary[item])"
   ]
  },
  {
   "cell_type": "code",
   "execution_count": 59,
   "metadata": {},
   "outputs": [
    {
     "data": {
      "text/plain": [
       "605"
      ]
     },
     "execution_count": 59,
     "metadata": {},
     "output_type": "execute_result"
    }
   ],
   "source": [
    "len(senate_bills_with_bad_assembly_version)"
   ]
  },
  {
   "cell_type": "code",
   "execution_count": 60,
   "metadata": {},
   "outputs": [
    {
     "data": {
      "text/plain": [
       "True"
      ]
     },
     "execution_count": 60,
     "metadata": {},
     "output_type": "execute_result"
    }
   ],
   "source": [
    "len(senate_bills_with_bad_assembly_version) + len(assembly_bills_with_bad_senate_version) == len(duplicate_bills)"
   ]
  },
  {
   "cell_type": "code",
   "execution_count": 65,
   "metadata": {},
   "outputs": [],
   "source": [
    "#if a bill is a duplicate, the \"bad\" version of the bill is the one that doesn't match\n",
    "# its identifier. That is, an \"AB\" \"ACR\" or \"AJR\" bill shouldn't be coming from the Senate and\n",
    "# and \"SB\", \"SJR\" or \"SCR\" shouldn't emanate from the Assembly.\n",
    "\n",
    "to_purge = []\n",
    "for bill in CA_list_of_bills:\n",
    "    if bill['bill']['identifier'] in duplicate_session_ids:\n",
    "        if bill['bill']['identifier'][:1] == 'A' and bill['bill']['fromOrganization']['name'] == 'Senate':\n",
    "            to_purge.append(bill)\n",
    "        elif bill['bill']['identifier'][:1] == 'S' and bill['bill']['fromOrganization']['name'] == 'Assembly':\n",
    "            to_purge.append(bill)"
   ]
  },
  {
   "cell_type": "code",
   "execution_count": 66,
   "metadata": {},
   "outputs": [
    {
     "data": {
      "text/plain": [
       "True"
      ]
     },
     "execution_count": 66,
     "metadata": {},
     "output_type": "execute_result"
    }
   ],
   "source": [
    "len(duplicate_bills) == len(to_purge)"
   ]
  },
  {
   "cell_type": "code",
   "execution_count": 75,
   "metadata": {},
   "outputs": [
    {
     "name": "stdout",
     "output_type": "stream",
     "text": [
      "{'bill': {'id': 'ocd-bill/73e6c505-0527-4948-97bc-431682ead5c0', 'identifier': 'AB 73', 'title': 'Budget Act of 2019.', 'classification': ['bill'], 'updatedAt': '2019-01-05 00:07:43.397702+00:00', 'createdAt': '2019-01-05 00:07:43.397684+00:00', 'fromOrganization': {'id': 'ocd-organization/e70e812e-44d2-46b0-9eae-2f3b9a1d5150', 'name': 'Assembly'}}}\n",
      "{'bill': {'id': 'ocd-bill/8c924d4a-9f49-468f-9fec-cf37990d5362', 'identifier': 'AB 73', 'title': 'Privacy: lodging and common carriers: state emergencies: Disaster Response-Emergency Operations Account.', 'classification': ['bill', 'appropriation'], 'updatedAt': '2019-03-08 18:09:03.449627+00:00', 'createdAt': '2019-03-07 06:09:06.380465+00:00', 'fromOrganization': {'id': 'ocd-organization/98623fa0-f9c3-47ae-80bb-51465349ed71', 'name': 'Senate'}}}\n"
     ]
    }
   ],
   "source": [
    "for bill in CA_list_of_bills:\n",
    "    if bill['bill']['identifier'] == \"AB 73\":\n",
    "        print(bill)"
   ]
  },
  {
   "cell_type": "code",
   "execution_count": 95,
   "metadata": {},
   "outputs": [],
   "source": [
    "# earlier we looked at bills that had both identical identifiers and identical titles. How about bills that just have the same identifier?\n",
    "CA_bill_ids = [bill['bill']['identifier'] for bill in CA_list_of_bills]\n",
    "bill_id_count = Counter(CA_bill_ids)\n",
    "duplicate_identifiers_bills = [bill for bill in bill_id_count if bill_id_count[bill] > 1]"
   ]
  },
  {
   "cell_type": "code",
   "execution_count": 106,
   "metadata": {},
   "outputs": [],
   "source": [
    "# 9 cases where there is a duplicate identifier but unique title\n",
    "edge_cases = []\n",
    "for bill in duplicate_identifiers_bills:\n",
    "    if bill not in duplicate_session_ids:\n",
    "        edge_cases.append(bill)\n",
    "edge_dictionary = {}\n",
    "for bill in CA_list_of_bills:\n",
    "    identifier = bill['bill']['identifier']\n",
    "    if bill['bill']['identifier'] in edge_cases:\n",
    "        if bill['bill']['identifier'] in edge_dictionary:\n",
    "            edge_dictionary[bill['bill']['identifier']].append(bill)\n",
    "        else:\n",
    "            edge_dictionary[bill['bill']['identifier']] = [bill]"
   ]
  },
  {
   "cell_type": "code",
   "execution_count": 114,
   "metadata": {},
   "outputs": [],
   "source": [
    "# This is ALL dupes.\n",
    "all_duplicates_dictionary = {}\n",
    "for bill in CA_list_of_bills:\n",
    "    identifier = bill['bill']['identifier']\n",
    "    if bill['bill']['identifier'] in duplicate_identifiers_bills:\n",
    "        if bill['bill']['identifier'] in all_duplicates_dictionary:\n",
    "            all_duplicates_dictionary[bill['bill']['identifier']].append(bill)\n",
    "        else:\n",
    "            all_duplicates_dictionary[bill['bill']['identifier']] = [bill]"
   ]
  },
  {
   "cell_type": "code",
   "execution_count": 115,
   "metadata": {},
   "outputs": [
    {
     "data": {
      "text/plain": [
       "752"
      ]
     },
     "execution_count": 115,
     "metadata": {},
     "output_type": "execute_result"
    }
   ],
   "source": [
    "len(all_duplicates_dictionary)"
   ]
  },
  {
   "cell_type": "code",
   "execution_count": 126,
   "metadata": {},
   "outputs": [],
   "source": [
    "# Let's convert datetimes to just dates\n",
    "for key, item in all_duplicates_dictionary.items():\n",
    "    for bill in item:\n",
    "        bill['bill']['updatedAt'] = datetime.strptime(bill['bill']['updatedAt'][:10], \"%Y-%m-%d\")\n",
    "        bill['bill']['createdAt'] = datetime.strptime(bill['bill']['createdAt'][:10], \"%Y-%m-%d\")"
   ]
  },
  {
   "cell_type": "code",
   "execution_count": 130,
   "metadata": {},
   "outputs": [],
   "source": [
    "# create dictionary to count all the dates on which a bad bill was created\n",
    "time_error_dict = {}\n",
    "for key, item in all_duplicates_dictionary.items():\n",
    "    for bill in item:\n",
    "        if bill['bill']['identifier'][:1] != bill['bill']['fromOrganization']['name'][:1]:\n",
    "            time_error_dict[bill['bill']['createdAt']] = time_error_dict.get(bill['bill']['createdAt'], 0) + 1"
   ]
  },
  {
   "cell_type": "code",
   "execution_count": 131,
   "metadata": {},
   "outputs": [
    {
     "data": {
      "text/plain": [
       "{datetime.datetime(2019, 3, 7, 0, 0): 748,\n",
       " datetime.datetime(2019, 3, 8, 0, 0): 4}"
      ]
     },
     "execution_count": 131,
     "metadata": {},
     "output_type": "execute_result"
    }
   ],
   "source": [
    "time_error_dict"
   ]
  },
  {
   "cell_type": "code",
   "execution_count": null,
   "metadata": {},
   "outputs": [],
   "source": []
  }
 ],
 "metadata": {
  "kernelspec": {
   "display_name": "Python 3",
   "language": "python",
   "name": "python3"
  },
  "language_info": {
   "codemirror_mode": {
    "name": "ipython",
    "version": 3
   },
   "file_extension": ".py",
   "mimetype": "text/x-python",
   "name": "python",
   "nbconvert_exporter": "python",
   "pygments_lexer": "ipython3",
   "version": "3.7.1"
  }
 },
 "nbformat": 4,
 "nbformat_minor": 2
}
